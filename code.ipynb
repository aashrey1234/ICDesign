{
 "cells": [
  {
   "cell_type": "code",
   "execution_count": 1,
   "metadata": {},
   "outputs": [],
   "source": [
    "import numpy as np\n",
    "import matplotlib as plt\n",
    "import pandas as pd\n",
    "import datetime\n",
    "import os\n",
    "import shutil"
   ]
  },
  {
   "cell_type": "markdown",
   "metadata": {},
   "source": [
    "#### Selecting top modules from the folder "
   ]
  },
  {
   "cell_type": "code",
   "execution_count": null,
   "metadata": {},
   "outputs": [],
   "source": [
    "modules = os.listdir(\"Modules1\")\n",
    "top_modules = [mod for mod in modules if mod[:3]=='top']\n",
    "print(top_modules)"
   ]
  },
  {
   "cell_type": "markdown",
   "metadata": {},
   "source": [
    "#### Creating project and adding modules in it"
   ]
  },
  {
   "cell_type": "code",
   "execution_count": null,
   "metadata": {},
   "outputs": [],
   "source": [
    "os.system(\"vivado -mode batch -source tcl_add1.tcl\")"
   ]
  },
  {
   "cell_type": "code",
   "execution_count": null,
   "metadata": {},
   "outputs": [],
   "source": [
    "os.system(\"vivado -mode batch -source tcl_add.tcl\")"
   ]
  },
  {
   "cell_type": "markdown",
   "metadata": {},
   "source": [
    "#### making directory to save runs"
   ]
  },
  {
   "cell_type": "code",
   "execution_count": null,
   "metadata": {},
   "outputs": [],
   "source": [
    "os.mkdir('Vivadoruns')"
   ]
  },
  {
   "cell_type": "markdown",
   "metadata": {},
   "source": [
    "### for loop for iterating for modules and run synthesis and implementation for each modules"
   ]
  },
  {
   "cell_type": "code",
   "execution_count": null,
   "metadata": {},
   "outputs": [],
   "source": [
    "for filename in top_modules:\n",
    "    os.mkdir(\"Vivadoruns/\"+filename[:-2])\n",
    "    os.system(\"vivado -mode batch -source tcl_run.tcl -tclargs {}\".format(filename))\n",
    "    print(filename)"
   ]
  },
  {
   "cell_type": "code",
   "execution_count": null,
   "metadata": {},
   "outputs": [],
   "source": [
    "designs = os.listdir(\"Vivadoruns\")\n",
    "print(designs)"
   ]
  },
  {
   "cell_type": "markdown",
   "metadata": {},
   "source": [
    "#### file and Keywords to create performance matrix"
   ]
  },
  {
   "cell_type": "code",
   "execution_count": null,
   "metadata": {},
   "outputs": [],
   "source": [
    "file_paths = ['power.txt', 'timing.txt', 'utilization.txt']\n",
    "\n",
    "keyword = ['Total On-Chip Power', 'Data Path Delay', 'Slice LUTs']\n",
    "POWER = []\n",
    "DELAY = []\n",
    "LUT = []"
   ]
  },
  {
   "cell_type": "markdown",
   "metadata": {},
   "source": [
    "#### to create table of performance matrix"
   ]
  },
  {
   "cell_type": "code",
   "execution_count": null,
   "metadata": {},
   "outputs": [],
   "source": [
    "for design in designs:\n",
    "    for file in file_paths:\n",
    "        with open(\"Vivadoruns/{}/{}\".format(design,file), 'r') as File:\n",
    "            content = File.read()\n",
    "\n",
    "        sentences = content.split('\\n')\n",
    "\n",
    "        for line in sentences:\n",
    "            if file_paths[0] in file:\n",
    "                if keyword[0] in line:\n",
    "                    power= float(line.split()[6])\n",
    "                    print(power)\n",
    "                    POWER.append(power)\n",
    "\n",
    "            if file_paths[1] in file:\n",
    "                if keyword[1] in line:\n",
    "                    delay = float(line.split()[3][:-2])\n",
    "                    print(delay)\n",
    "                    DELAY.append(delay)\n",
    "\n",
    "            if file_paths[2] in file:\n",
    "                if keyword[2] in line:\n",
    "                    lut = float(line.split()[4])\n",
    "                    print(lut)\n",
    "                    print(line)\n",
    "                    LUT.append(lut)"
   ]
  },
  {
   "cell_type": "markdown",
   "metadata": {},
   "source": [
    "#### To create table"
   ]
  },
  {
   "cell_type": "code",
   "execution_count": null,
   "metadata": {},
   "outputs": [],
   "source": [
    "Results = [POWER, DELAY, LUT]    \n",
    "row_names = ['POWER', 'DELAY', 'LUTs']\n",
    "\n",
    "df = pd.DataFrame(Results, index=row_names)\n",
    "df.columns = designs\n",
    "df.to_csv('Results.csv', index=row_names)\n",
    "\n",
    "print(df)"
   ]
  }
 ],
 "metadata": {
  "kernelspec": {
   "display_name": "Python 3 (ipykernel)",
   "language": "python",
   "name": "python3"
  }
 },
 "nbformat": 4,
 "nbformat_minor": 2
}
