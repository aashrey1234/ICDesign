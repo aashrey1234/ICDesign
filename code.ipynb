{
 "cells": [
  {
   "attachments": {},
   "cell_type": "markdown",
   "metadata": {},
   "source": [
    "### Importing Packages"
   ]
  },
  {
   "cell_type": "code",
   "execution_count": 17,
   "metadata": {},
   "outputs": [],
   "source": [
    "import numpy as np\n",
    "import matplotlib as plt\n",
    "import pandas as pd\n",
    "import datetime\n",
    "import os\n",
    "import shutil"
   ]
  },
  {
   "attachments": {},
   "cell_type": "markdown",
   "metadata": {},
   "source": [
    "### Selecting top modules from the folder "
   ]
  },
  {
   "cell_type": "code",
   "execution_count": 18,
   "metadata": {},
   "outputs": [
    {
     "name": "stdout",
     "output_type": "stream",
     "text": [
      "['top_master_slave.v', 'top_mealy.v', 'top_moore.v', 'top_alubit.v', 'top_ripplebit.v', 'top_knowels_bit.v', 'top_koggestone_bit.v', 'top_lander_fisher_bit.v']\n"
     ]
    }
   ],
   "source": [
    "modules = os.listdir(\"Modules1\")\n",
    "top_modules = [mod for mod in modules if mod[:3]=='top']\n",
    "print(top_modules)"
   ]
  },
  {
   "attachments": {},
   "cell_type": "markdown",
   "metadata": {},
   "source": [
    "### Creating project and adding modules in it"
   ]
  },
  {
   "cell_type": "code",
   "execution_count": 19,
   "metadata": {},
   "outputs": [
    {
     "data": {
      "text/plain": [
       "0"
      ]
     },
     "execution_count": 19,
     "metadata": {},
     "output_type": "execute_result"
    }
   ],
   "source": [
    "os.system(\"vivado -mode batch -source tcl_add1.tcl\")"
   ]
  },
  {
   "cell_type": "code",
   "execution_count": 20,
   "metadata": {},
   "outputs": [
    {
     "data": {
      "text/plain": [
       "0"
      ]
     },
     "execution_count": 20,
     "metadata": {},
     "output_type": "execute_result"
    }
   ],
   "source": [
    "os.system(\"vivado -mode batch -source tcl_add.tcl\")"
   ]
  },
  {
   "cell_type": "code",
   "execution_count": 21,
   "metadata": {},
   "outputs": [],
   "source": [
    "os.mkdir('Vivadoruns')"
   ]
  },
  {
   "cell_type": "code",
   "execution_count": 23,
   "metadata": {},
   "outputs": [
    {
     "name": "stdout",
     "output_type": "stream",
     "text": [
      "top_master_slave.v\n",
      "top_mealy.v\n",
      "top_moore.v\n",
      "top_alubit.v\n",
      "top_ripplebit.v\n",
      "top_knowels_bit.v\n",
      "top_koggestone_bit.v\n",
      "top_lander_fisher_bit.v\n"
     ]
    }
   ],
   "source": [
    "for filename in top_modules:\n",
    "    os.mkdir(\"Vivadoruns/\"+filename[:-2])\n",
    "    os.system(\"vivado -mode batch -source tcl_run.tcl -tclargs {}\".format(filename))\n",
    "    print(filename)"
   ]
  },
  {
   "cell_type": "code",
   "execution_count": 24,
   "metadata": {},
   "outputs": [
    {
     "name": "stdout",
     "output_type": "stream",
     "text": [
      "['top_master_slave', 'top_mealy', 'top_moore', 'top_alubit', 'top_ripplebit', 'top_knowels_bit', 'top_koggestone_bit', 'top_lander_fisher_bit']\n"
     ]
    }
   ],
   "source": [
    "designs = os.listdir(\"Vivadoruns\")\n",
    "print(designs)"
   ]
  },
  {
   "cell_type": "code",
   "execution_count": 25,
   "metadata": {},
   "outputs": [],
   "source": [
    "file_paths = ['power.txt', 'timing.txt', 'utilization.txt']\n",
    "\n",
    "keyword = ['Total On-Chip Power', 'Data Path Delay', 'Slice LUTs']\n",
    "POWER = []\n",
    "DELAY = []\n",
    "LUT = []"
   ]
  },
  {
   "cell_type": "code",
   "execution_count": 26,
   "metadata": {},
   "outputs": [
    {
     "name": "stdout",
     "output_type": "stream",
     "text": [
      "0.639\n",
      "4.767\n",
      "1.0\n",
      "| Slice LUTs              |    1 |     0 |    134600 | <0.01 |\n",
      "0.632\n",
      "5.976\n",
      "8.0\n",
      "| Slice LUTs              |    8 |     0 |    134600 | <0.01 |\n",
      "0.529\n",
      "4.813\n",
      "5.0\n",
      "| Slice LUTs              |    5 |     0 |    134600 | <0.01 |\n",
      "11.055\n",
      "13.83\n",
      "131.0\n",
      "| Slice LUTs              |  131 |     0 |    134600 |  0.10 |\n",
      "0.122\n",
      "0.0\n",
      "| Slice LUTs              |    0 |     0 |    134600 |  0.00 |\n",
      "25.791\n",
      "18.331\n",
      "133.0\n",
      "| Slice LUTs              |  133 |     0 |    134600 |  0.10 |\n",
      "25.741\n",
      "18.177\n",
      "131.0\n",
      "| Slice LUTs              |  131 |     0 |    134600 |  0.10 |\n",
      "23.749\n",
      "17.48\n",
      "73.0\n",
      "| Slice LUTs              |   73 |     0 |    134600 |  0.05 |\n"
     ]
    }
   ],
   "source": [
    "for design in designs:\n",
    "    for file in file_paths:\n",
    "        with open(\"Vivadoruns/{}/{}\".format(design,file), 'r') as File:\n",
    "            content = File.read()\n",
    "\n",
    "        sentences = content.split('\\n')\n",
    "\n",
    "        for line in sentences:\n",
    "            if file_paths[0] in file:\n",
    "                if keyword[0] in line:\n",
    "                    power= float(line.split()[6])\n",
    "                    print(power)\n",
    "                    POWER.append(power)\n",
    "\n",
    "            if file_paths[1] in file:\n",
    "                if keyword[1] in line:\n",
    "                    delay = float(line.split()[3][:-2])\n",
    "                    print(delay)\n",
    "                    DELAY.append(delay)\n",
    "\n",
    "            if file_paths[2] in file:\n",
    "                if keyword[2] in line:\n",
    "                    lut = float(line.split()[4])\n",
    "                    print(lut)\n",
    "                    print(line)\n",
    "                    LUT.append(lut)"
   ]
  },
  {
   "cell_type": "code",
   "execution_count": 27,
   "metadata": {},
   "outputs": [
    {
     "name": "stdout",
     "output_type": "stream",
     "text": [
      "       top_master_slave  top_mealy  top_moore  top_alubit  top_ripplebit  \\\n",
      "POWER             0.639      0.632      0.529      11.055          0.122   \n",
      "DELAY             4.767      5.976      4.813      13.830         18.331   \n",
      "LUTs              1.000      8.000      5.000     131.000          0.000   \n",
      "\n",
      "       top_knowels_bit  top_koggestone_bit  top_lander_fisher_bit  \n",
      "POWER           25.791              25.741                 23.749  \n",
      "DELAY           18.177              17.480                    NaN  \n",
      "LUTs           133.000             131.000                 73.000  \n"
     ]
    }
   ],
   "source": [
    "Results = [POWER, DELAY, LUT]    \n",
    "row_names = ['POWER', 'DELAY', 'LUTs']\n",
    "\n",
    "df = pd.DataFrame(Results, index=row_names)\n",
    "df.columns = designs\n",
    "df.to_csv('Results.csv', index=row_names)\n",
    "\n",
    "print(df)"
   ]
  }
 ],
 "metadata": {
  "kernelspec": {
   "display_name": "Python 3",
   "language": "python",
   "name": "python3"
  },
  "language_info": {
   "codemirror_mode": {
    "name": "ipython",
    "version": 3
   },
   "file_extension": ".py",
   "mimetype": "text/x-python",
   "name": "python",
   "nbconvert_exporter": "python",
   "pygments_lexer": "ipython3",
   "version": "3.6.8"
  },
  "orig_nbformat": 4
 },
 "nbformat": 4,
 "nbformat_minor": 2
}
